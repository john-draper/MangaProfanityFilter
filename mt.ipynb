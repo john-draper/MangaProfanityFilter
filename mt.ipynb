{
 "cells": [
  {
   "cell_type": "code",
   "execution_count": 2,
   "id": "4f7f325c",
   "metadata": {},
   "outputs": [],
   "source": [
    "#!{sys.executable} -m pip install Pillow\n",
    "\n",
    "from pathlib import Path\n",
    "from PIL import Image\n",
    "import easyocr\n",
    "import numpy as np\n",
    "from sklearn.cluster import DBSCAN\n",
    "import numpy as np\n",
    "import os\n",
    "from pathlib import Path\n",
    "from paddleocr import PaddleOCR\n",
    "from PIL import Image, ImageDraw, ImageFont\n",
    "\n"
   ]
  },
  {
   "cell_type": "code",
   "execution_count": 3,
   "id": "1e30b15d",
   "metadata": {},
   "outputs": [
    {
     "name": "stderr",
     "output_type": "stream",
     "text": [
      "Using CPU. Note: This module is much faster with a GPU.\n",
      "C:\\Users\\John\\AppData\\Roaming\\Python\\Python313\\site-packages\\torch\\utils\\data\\dataloader.py:666: UserWarning: 'pin_memory' argument is set as true but no accelerator is found, then device pinned memory won't be used.\n",
      "  warnings.warn(warn_msg)\n"
     ]
    },
    {
     "name": "stdout",
     "output_type": "stream",
     "text": [
      "Saved modified page: output\\page_001.png\n",
      "Saved modified page: output\\page_002.png\n"
     ]
    }
   ],
   "source": [
    "# --------------------------\n",
    "# CONFIG\n",
    "# --------------------------\n",
    "input_folder = Path(r\"input\\Drawing Saikyou Mangaka wa Oekaki Skill de Isekai Musou Suru!\\Vol. 1 Ch. 1\")\n",
    "output_folder = Path(\"output\")\n",
    "output_folder.mkdir(exist_ok=True)\n",
    "\n",
    "allow_chars = \"ABCDEFGHIJKLMNOPQRSTUVWXYZ0123456789!?.,-…'\\\"\"\n",
    "replacements = {\"JUMP\": \"LEAP\"}  # Dictionary of word replacements\n",
    "font_path = \"arial.ttf\"  # Use a comic font if you have one\n",
    "font_size = 20  # Adjust size to fit speech bubbles\n",
    "\n",
    "# --------------------------\n",
    "# LOAD IMAGES\n",
    "# --------------------------\n",
    "image_files = sorted(input_folder.glob(\"*.jpg\"))\n",
    "images = [Image.open(f) for f in image_files]\n",
    "\n",
    "# --------------------------\n",
    "# INITIALIZE OCR\n",
    "# --------------------------\n",
    "reader = easyocr.Reader(['en'], gpu=False)\n",
    "ocr_results_all = []\n",
    "\n",
    "# --------------------------\n",
    "# OCR ALL IMAGES\n",
    "# --------------------------\n",
    "for img in images:\n",
    "    results = reader.readtext(np.array(img), allowlist=allow_chars, width_ths=0.005)\n",
    "    ocr_results_all.append(results)\n",
    "\n",
    "# --------------------------\n",
    "# REPLACE WORDS\n",
    "# --------------------------\n",
    "def replace_words(results, replacements):\n",
    "    \"\"\"\n",
    "    Replace words in OCR results according to a dictionary.\n",
    "    \"\"\"\n",
    "    new_results = []\n",
    "    for bbox, text, conf in results:\n",
    "        new_text = \" \".join([replacements.get(word.upper(), word) for word in text.split()])\n",
    "        new_results.append((bbox, new_text, conf))\n",
    "    return new_results\n",
    "\n",
    "ocr_results_modified = [replace_words(r, replacements) for r in ocr_results_all]\n",
    "\n",
    "# --------------------------\n",
    "# DRAW TEXT BACK ON IMAGE\n",
    "# --------------------------\n",
    "def draw_text_on_image(img, results, font_path=font_path, font_size=font_size):\n",
    "    \"\"\"\n",
    "    Draw modified text on a PIL image.\n",
    "    \"\"\"\n",
    "    pil_img = img.copy()\n",
    "    draw = ImageDraw.Draw(pil_img)\n",
    "    font = ImageFont.truetype(font_path, font_size)\n",
    "\n",
    "    for bbox, text, conf in results:\n",
    "        # Calculate approximate center of the bbox\n",
    "        x_center = int(np.mean([p[0] for p in bbox]))\n",
    "        y_center = int(np.mean([p[1] for p in bbox]))\n",
    "        draw.text((x_center, y_center), text, fill=\"black\", font=font, anchor=\"mm\")\n",
    "\n",
    "    return pil_img\n",
    "\n",
    "# --------------------------\n",
    "# PROCESS AND SAVE IMAGES\n",
    "# --------------------------\n",
    "for idx, img in enumerate(images):\n",
    "    modified_img = draw_text_on_image(img, ocr_results_modified[idx])\n",
    "    output_path = output_folder / f\"page_{idx+1:03d}.png\"\n",
    "    modified_img.save(output_path)\n",
    "    print(f\"Saved modified page: {output_path}\")\n"
   ]
  }
 ],
 "metadata": {
  "kernelspec": {
   "display_name": "Python (MTRKernel)",
   "language": "python",
   "name": "mtrkernel"
  },
  "language_info": {
   "codemirror_mode": {
    "name": "ipython",
    "version": 3
   },
   "file_extension": ".py",
   "mimetype": "text/x-python",
   "name": "python",
   "nbconvert_exporter": "python",
   "pygments_lexer": "ipython3",
   "version": "3.13.2"
  }
 },
 "nbformat": 4,
 "nbformat_minor": 5
}
